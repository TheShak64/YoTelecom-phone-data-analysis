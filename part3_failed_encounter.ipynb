{
 "cells": [
  {
   "cell_type": "code",
   "execution_count": 1,
   "metadata": {},
   "outputs": [],
   "source": [
    "import pandas as pd\n",
    "import numpy as np\n",
    "import re\n",
    "from datetime import datetime, time, date, timedelta\n",
    "import sys \n",
    "import matplotlib.pyplot as plt\n",
    "import matplotlib.dates as mdates\n",
    "import matplotlib.ticker as mticker\n",
    "from matplotlib.ticker import MaxNLocator\n",
    "%matplotlib inline\n",
    "import logging\n",
    "import os"
   ]
  },
  {
   "cell_type": "code",
   "execution_count": 2,
   "metadata": {},
   "outputs": [],
   "source": [
    "#### PARAMETERS ####\n",
    "#FULL DATASET ANALYSIS###\n",
    "param_starttime = \"08:00\"\n",
    "param_endtime = \"18:30\"\n",
    "increment = \"1\" # min minutes \n",
    "FC_day_analysis = \"2019/01/28\" #for now do one date. later u can loop through\n",
    "#### PARAMETERS ####"
   ]
  },
  {
   "cell_type": "code",
   "execution_count": 3,
   "metadata": {},
   "outputs": [],
   "source": [
    "#opening csv file provided by company - may need to clean up\n",
    "dfraw = pd.read_csv(\"phonesystem_mod.csv\", usecols=np.arange(14))\n",
    "#dfraw = dfraw.reset_index()\n",
    "#store number of rows and cols\n",
    "row, col = dfraw.shape\n"
   ]
  },
  {
   "cell_type": "code",
   "execution_count": 4,
   "metadata": {},
   "outputs": [],
   "source": [
    "#after looking at the data we want to clean it up\n",
    "#lets drop un-needed cols.\n",
    "del dfraw['Unique ID']\n",
    "del dfraw['Caller Extension']\n",
    "del dfraw['Caller Comments']\n",
    "del dfraw['Called Comments']\n",
    "del dfraw['Answering Extension']\n",
    "del dfraw['Information']\n",
    "del dfraw['Reporting Group']\n",
    "del dfraw['Report Flag']"
   ]
  },
  {
   "cell_type": "code",
   "execution_count": 5,
   "metadata": {},
   "outputs": [],
   "source": [
    "# The dates and times given in the data needs to be of type \"datetime\"\n",
    "#We extract the date and time now. \n",
    "#Construct datetime object (YYYY,MM,DD,hour,min,sec) by extracting it by slice\n",
    "\n",
    "#create new column with same number of index:\n",
    "#empty col ready to transfer formatted datetime values\n",
    "dfraw[\"datetime\"] = '' \n",
    "\n",
    "# store the rows of data into this temporary pandas series\n",
    "dt_col = dfraw[\"Date/Time\"] \n",
    "\n",
    "i = 0\n",
    "\n",
    "for dt_ele in dt_col:\n",
    "    \n",
    "    # \"dt_ele\" contains a string: dd/mm/yyyy hh:mm:ss <-- lets extract this\n",
    "    #by looping through each point of our date/time col and extracting\n",
    "    #individual data by slicing:\n",
    "    year = dt_ele[6:10]\n",
    "    month = dt_ele[3:5]\n",
    "    day = dt_ele[0:2]\n",
    "    hour = dt_ele[11:13]\n",
    "    mini = dt_ele[14:16]\n",
    "    sec = dt_ele[17:21]\n",
    "    \n",
    "    #create a datetime object for that element\n",
    "    formatted_dt = datetime(int(year),int(month),int(day),int(hour),int(mini),int(sec))\n",
    "\n",
    "    #plug this formatted datetime value into our new col called datetime by appending.\n",
    "    #as we are looping from the begining of the col\n",
    "    dfraw.loc[i,\"datetime\"] = formatted_dt\n",
    "    \n",
    "    i = i + 1"
   ]
  },
  {
   "cell_type": "code",
   "execution_count": 6,
   "metadata": {
    "scrolled": true
   },
   "outputs": [],
   "source": [
    "#drop the unformatted date/time col\n",
    "del dfraw['Date/Time']\n",
    "#re-arrage the cols\n",
    "collist = [\"datetime\",\"Type\",\"Dial Status\",\"Caller Number\",\"Called Number\",\"Duration\"]\n",
    "dfraw = dfraw[collist]\n"
   ]
  },
  {
   "cell_type": "code",
   "execution_count": 7,
   "metadata": {},
   "outputs": [],
   "source": [
    "dfraw = dfraw.sort_values(\"datetime\")\n",
    "#we sorted the datetimes. now we need to reset the index values:\n",
    "dfraw = dfraw.reset_index(drop=True)\n",
    "\n",
    "#so we know first datetime[] row is earliest \n",
    "#and last row is latest. store these dates and print.\n",
    "firstdate = dfraw.loc[0,\"datetime\"]\n",
    "lastdate = dfraw.loc[row-1,\"datetime\"]"
   ]
  },
  {
   "cell_type": "code",
   "execution_count": 8,
   "metadata": {
    "scrolled": true
   },
   "outputs": [],
   "source": [
    "#clean data further by dropping rows with times outside user defined: param_starttime and param_endtime\n",
    "\n",
    "dummystarttime = datetime(int(\"1990\"),int(\"01\"),int(\"01\"),\n",
    "                     int(param_starttime[0:2]),\n",
    "                     int(param_starttime[3:5]))\n",
    "dummyendtime = datetime(int(\"1990\"),int(\"01\"),int(\"01\"),\n",
    "                     int(param_endtime[0:2]),\n",
    "                     int(param_endtime[3:5]))\n",
    "\n",
    "\n",
    "dfraw[\"timeonly\"] = \"\"\n",
    "rowcounter = 0\n",
    "for ele in dfraw[\"datetime\"]:\n",
    "    dfraw.loc[rowcounter,\"timeonly\"] = ele.time()\n",
    "    rowcounter += 1\n",
    "    \n",
    "#remove data that is no within the bounds of our target timeframe\n",
    "dfraw = dfraw[dfraw.timeonly > dummystarttime.time()]\n",
    "dfraw = dfraw[dfraw.timeonly < dummyendtime.time()]\n",
    "#WE JUST DELETED ROWS. must reset the index!!!!! otherwise there are jumps in the index \n",
    "dfraw = dfraw.reset_index(drop=True)\n"
   ]
  },
  {
   "cell_type": "code",
   "execution_count": 9,
   "metadata": {},
   "outputs": [],
   "source": [
    "#convert yyyy-mm-dd into datetime object with 00:00 time\n",
    "#this is needed for converting the date from string to datetime.\n",
    "def text2Date_nullTime (givendate):\n",
    "    #expect a string in the format: yyyy-mm-dd\n",
    "    thedate = datetime(int(givendate[0:4]),\n",
    "                    int(givendate[5:7]),\n",
    "                    int(givendate[8:10]),)\n",
    "    return thedate"
   ]
  },
  {
   "cell_type": "code",
   "execution_count": 10,
   "metadata": {},
   "outputs": [],
   "source": [
    "#In our data, we have callers who experiance \"failed capacity\" - unable to connect. \n",
    "# This is due to not enough phone stations logged in or simply not enough lines\n",
    "#how  how many of these FC do we get?\n",
    "#how long would an average user keep trying to get through througout the day?\n",
    "#trying just once and giving up counts as tried. but only tried for 0 minutes. "
   ]
  },
  {
   "cell_type": "code",
   "execution_count": 11,
   "metadata": {
    "scrolled": false
   },
   "outputs": [],
   "source": [
    "day = text2Date_nullTime(FC_day_analysis)\n",
    "dffc = dfraw # make a copy of the dataframe (as we will be dropping analysed cols)\n",
    "\n",
    "# Step 1 : filter to have only one day. as we will analyse day by day. \n",
    "\n",
    "day_low_lim = day.replace(hour=0, minute=0, second = 0) #day with time 00:00\n",
    "day_upper_lim = day.replace(hour=23, minute=59, second = 59) #day with time 23:59\n",
    "\n",
    "dffc = dffc[(dffc.datetime >= day_low_lim) & (dffc.datetime <= day_upper_lim) & (dffc.Type <= \"INBOUND\")]\n",
    "#!!!!!!!!!!!!!!!!!!!!! after a sort re-allign the index to make it all sorted..\n",
    "dffc = dffc.reset_index(drop=True)\n"
   ]
  },
  {
   "cell_type": "code",
   "execution_count": 12,
   "metadata": {},
   "outputs": [],
   "source": [
    "# Step 2: loop through dial status. if \"failed capacity then store in variable count and nummber\"\n",
    "#eventually there wont be any failed capacity left.. as we will count them then delete them as we go along. \n",
    "\n",
    "\n",
    "#rowcount = len(dffc[\"Dial Status\"])\n",
    "row = 0\n",
    "timemargin = timedelta(minutes = 2) # x mins\n",
    "#create empty df to store our data we will get from below:\n",
    "dfmain = pd.DataFrame(columns=[\"initial_time\",\"wait_time\"])\n",
    "rowcount = len(dffc[\"Dial Status\"])\n",
    "\n",
    "while row < rowcount: #if it finds one, reset index after drop,set row to 0\n",
    "    if dffc.loc[row,\"Dial Status\"] == \"Failed [Capacity]\": #If it finds a failed capacity:\n",
    "        number = dffc.loc[row,\"Caller Number\"] #store number\n",
    "        dffc_temp = dffc[(dffc[\"Caller Number\"] == number)] #filter to show activiy of that number\n",
    "        dffc_temp = dffc_temp.reset_index(drop=False) #its been filtered, indexs are everywhere, reset this. BUT COPY INDEX AS NEW COL. to preserve data. \n",
    "        call_start = dffc_temp.loc[0,\"datetime\"] #store initial datetime of that number\n",
    "        # store list of row numbers that we account for, to drop later. these row numbers come from INDEX col\n",
    "        rowlist2drop = [] #in the case where only one attempt made to call.\n",
    "        call_end = call_start #call end to initially have 0 value incase someone attempts to call only once and fails once\n",
    "        \n",
    "\n",
    "            \n",
    "        if len(dffc_temp[\"Caller Number\"]) > 1:\n",
    "            row_temp = 0 # for looping through the dffc_temp. use 1 becuase if we use 0 then the first thing we analyse will have -1 index\n",
    "            len_dffc_temp = len(dffc_temp[\"datetime\"]) - 1 # because we check the one we are on and the one after without referencing the index of the one after\n",
    "            \n",
    "            while (row_temp < len_dffc_temp) and (dffc_temp.loc[row_temp,\"Dial Status\"] == \"Failed [Capacity]\") and (dffc_temp.loc[row_temp + 1,\"datetime\"] - dffc_temp.loc[row_temp,\"datetime\"]) <= timemargin:\n",
    "                rowlist2drop.append(dffc_temp.loc[row_temp,\"index\"]) # add preserved index to the list of rows to drop as we drop those rows from dffc. not the filtered dffc_temp\n",
    "                call_end = dffc_temp.loc[row_temp + 1,\"datetime\"] # assume this is the last time they tried.\n",
    "                row_temp = row_temp + 1\n",
    "            #if its not failed capacity:\n",
    "            \n",
    "            #special case: if len(rowlist2drop)==0, it means \"single attempt\" BUT they also tried later in the day. so we need to drop this single row here:\n",
    "            if len(rowlist2drop) == 0: \n",
    "                waittime = 0 \n",
    "                rowlist2drop.append(dffc_temp.loc[row_temp,\"index\"])\n",
    "       \n",
    "            waittime = call_end - call_start #calc time waited \n",
    "            dfmain = dfmain.append({\"initial_time\":call_start ,\"wait_time\":waittime}, ignore_index=\"false\") #store data in new df\n",
    "            dffc = dffc.drop(rowlist2drop) #drop rows in our working dataframe - eventually trying to elim all failed capacity \n",
    "            dffc = dffc.reset_index(drop=True) #reset index\n",
    "\n",
    "            rowcount = len(dffc[\"Dial Status\"])  #rowcount on dffc is smaller due to dropped rows. re-evaluate this.  \n",
    "            row = -1 #SET ROW TO \"-1\" ie starts from top of the df because we reset index and del rows then interate =+1 . eventually there will be no fail caps to sift through and the initial loop will break. :) \n",
    "            \n",
    "        \n",
    "        if len(dffc_temp[\"Caller Number\"]) == 1: #purely a single attempt. no other attempt to call later in the day.\n",
    "            waittime = 0\n",
    "            dfmain = dfmain.append({\"initial_time\":call_start ,\"wait_time\":waittime}, ignore_index=\"false\") #store data in new df\n",
    "            \n",
    "\n",
    "            rowlist2drop = []\n",
    "            rowlist2drop.append(dffc_temp.loc[0,\"index\"])\n",
    "            \n",
    "            \n",
    "            dffc = dffc.drop(rowlist2drop) #drop rows in our working dataframe - eventually trying to elim all failed capacity \n",
    "            dffc = dffc.reset_index(drop=True) #reset index \n",
    "            rowcount = len(dffc[\"Dial Status\"])  #rowcount on dffc is smaller due to dropped rows. re-evaluate this.  \n",
    "            row = 0 #SET ROW TO \"-0\" ie starts from top of the df because we reset index and del rows . eventually there will be no fail caps to sift through and the initial loop will break. :) \n",
    "            num_of_data = len(dffc[\"Caller Number\"])    \n",
    "            \n",
    "    row = row + 1\n",
    "\n",
    "\n",
    "#create temp. copy of dffc\n",
    "#start loop row_count = 0. If status is \"failed capacity\" then\n",
    "#store their number.\n",
    "#filter by number \n",
    "#loop through dffc until you encounter anything other than \"failed capacity\" or time between two tries is greater than 2min, is timegap=2m per step? \n",
    "#measure time gap \n",
    "\n",
    "\n",
    "#store data as: startime, timeattempted,"
   ]
  },
  {
   "cell_type": "code",
   "execution_count": 13,
   "metadata": {},
   "outputs": [],
   "source": [
    "#what happens when . single fail then ans\n",
    "#what happens when fail multi then ans\n",
    "#what happens if one single or multiple fail WITHOUT ans.??\n"
   ]
  },
  {
   "cell_type": "code",
   "execution_count": null,
   "metadata": {},
   "outputs": [],
   "source": []
  },
  {
   "cell_type": "code",
   "execution_count": 14,
   "metadata": {},
   "outputs": [],
   "source": [
    "#Seems to be an issue. the \"initial_time\" data is in numpy64datetime format. And there is conflicting info on how to convert this\n",
    "#into pythonic timestamps which matplotlib uses. \n",
    "#convert all the numpy time stamps into datetime stimestaps. then set this to the index. . \n",
    "#First: turn into string then pull the strings, convert to datetime store this inplace of the original numpydatetime data..then set to index\n",
    "\n",
    "sz = len(dfmain[\"initial_time\"])\n",
    "\n",
    "for i in range(sz):\n",
    "    t_str = str(dfmain.iloc[i,0])   \n",
    "    t = datetime(int(t_str[0:4]),int(t_str[5:7]),int(t_str[8:10]),\n",
    "        int(t_str[11:13]),int(t_str[14:16]),int(t_str[17:19]))\n",
    "    dfmain.iloc[i,0] = t\n",
    "    \n",
    "\n"
   ]
  },
  {
   "cell_type": "code",
   "execution_count": 15,
   "metadata": {},
   "outputs": [
    {
     "data": {
      "text/plain": [
       "(737087.3543518519, 737087.5032060185)"
      ]
     },
     "execution_count": 15,
     "metadata": {},
     "output_type": "execute_result"
    },
    {
     "data": {
      "image/png": "[encoded data removed]",
      "text/plain": [
       "<Figure size 864x648 with 1 Axes>"
      ]
     },
     "metadata": {
      "needs_background": "light"
     },
     "output_type": "display_data"
    }
   ],
   "source": [
    "sz=len(dfmain[\"wait_time\"])#this data is timedelta.\n",
    "for i in range(sz):\n",
    "    if dfmain.iloc[i,1] == 0:\n",
    "        dfmain.iloc[i,1] = int(0)\n",
    "    else:\n",
    "        formattedtime = dfmain.iloc[i,1].total_seconds()#gives me timedelta as seconds\n",
    "        dfmain.iloc[i,1] = float(formattedtime)/60\n",
    "dfmain = dfmain.set_index(\"initial_time\")\n",
    "\n",
    "fig = plt.figure(figsize=(12,9))\n",
    "ax = fig.add_axes([0,0,1,1])\n",
    "ax.scatter(dfmain.index.values,dfmain[\"wait_time\"])\n",
    "ax.xaxis.set_major_formatter(mdates.DateFormatter('%H:%M'))\n",
    "ax.xaxis.set_minor_locator(MaxNLocator(integer=True))\n",
    "ax.set_xlim(dfmain.index.values.min(),dfmain.index.values.max())"
   ]
  },
  {
   "cell_type": "code",
   "execution_count": 16,
   "metadata": {},
   "outputs": [
    {
     "data": {
      "text/plain": [
       "Text(0, 0.5, 'Count')"
      ]
     },
     "execution_count": 16,
     "metadata": {},
     "output_type": "execute_result"
    },
    {
     "data": {
      "image/png": "[encoded data removed]",
      "text/plain": [
       "<Figure size 648x1080 with 2 Axes>"
      ]
     },
     "metadata": {
      "needs_background": "light"
     },
     "output_type": "display_data"
    }
   ],
   "source": [
    "#LOOK AT THE ABOVE GRAPH. It gives us INSIGHT into what range we want to plot.\n",
    "#It shows which infomation is more useful. now set your custom endtime_limit on the x axis\n",
    "custom_endtime = \"09:00\" #hh:mm - make sure it is within range of the data\n",
    "\n",
    "date = str(dfmain.index.values[2])\n",
    "npdt_usrlim = np.datetime64(date[0:10]+\"T\"+str(custom_endtime))\n",
    "dfmain=dfmain[dfmain.index.values < npdt_usrlim]\n",
    "                   \n",
    "                     \n",
    "#Make the plot again but with our custom endtime to make better sense of the data. \n",
    "fig = plt.figure(figsize=(9,15))\n",
    "ax = fig.add_subplot(2,1,1)\n",
    "axhis = fig.add_subplot(2,1,2)\n",
    "ax.scatter(dfmain.index.values,dfmain[\"wait_time\"],s=100,color=\"red\",alpha=0.5)\n",
    "ax.xaxis.set_major_formatter(mdates.DateFormatter('%H:%M'))\n",
    "ax.xaxis.set_minor_locator(MaxNLocator(integer=True))\n",
    "ax.set_xlim(dfmain.index.values.min(),dfmain.index.values.max())\n",
    "ax.set_title(\"Unique individuals attempting and failing to connect untill they finally get through\")\n",
    "ax.set_xlabel(\"Time\")\n",
    "ax.set_ylabel(\"Time spent attempting to connect (minutes)\")\n",
    "\n",
    "axhis.hist(dfmain.index.values,bins=10,color=\"lightblue\")\n",
    "axhis.xaxis.set_major_formatter(mdates.DateFormatter('%H:%M'))\n",
    "axhis.xaxis.set_minor_locator(MaxNLocator(integer=True))\n",
    "axhis.set_xlim(dfmain.index.values.min(),dfmain.index.values.max())\n",
    "axhis.set_title(\"Number of unique individuals failing to connect\")\n",
    "axhis.set_xlabel(\"Time\")\n",
    "axhis.set_ylabel(\"Count\")"
   ]
  }
 ],
 "metadata": {
  "kernelspec": {
   "display_name": "Python 3",
   "language": "python",
   "name": "python3"
  },
  "language_info": {
   "codemirror_mode": {
    "name": "ipython",
    "version": 3
   },
   "file_extension": ".py",
   "mimetype": "text/x-python",
   "name": "python",
   "nbconvert_exporter": "python",
   "pygments_lexer": "ipython3",
   "version": "3.7.1"
  }
 },
 "nbformat": 4,
 "nbformat_minor": 2
}
