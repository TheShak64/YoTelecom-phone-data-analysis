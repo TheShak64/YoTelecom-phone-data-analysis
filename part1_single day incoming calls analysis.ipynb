{
 "cells": [
  {
   "cell_type": "code",
   "execution_count": 1,
   "metadata": {},
   "outputs": [],
   "source": [
    "import pandas as pd\n",
    "import numpy as np\n",
    "import re\n",
    "from datetime import datetime, time, date, timedelta\n",
    "import sys \n",
    "import matplotlib.pyplot as plt\n",
    "import matplotlib.dates as mdates\n",
    "import matplotlib.ticker as mticker\n",
    "from matplotlib.ticker import MaxNLocator\n",
    "%matplotlib inline"
   ]
  },
  {
   "cell_type": "code",
   "execution_count": 2,
   "metadata": {},
   "outputs": [
    {
     "name": "stdout",
     "output_type": "stream",
     "text": [
      "row num: 1542 || col num: 14\n"
     ]
    }
   ],
   "source": [
    "#opening csv file provided by company - may need to clean up\n",
    "dfraw = pd.read_csv(\"phonesystem_mod.csv\", usecols=np.arange(14))\n",
    "#dfraw = dfraw.reset_index()\n",
    "#store number of rows and cols\n",
    "row, col = dfraw.shape\n",
    "print (\"row num: \" + str(row) + \" || col num: \" + str(col))"
   ]
  },
  {
   "cell_type": "code",
   "execution_count": 3,
   "metadata": {},
   "outputs": [],
   "source": [
    "#after looking at the data we want to clean it up\n",
    "#lets drop un-needed cols.\n",
    "del dfraw['Unique ID']\n",
    "del dfraw['Caller Extension']\n",
    "del dfraw['Caller Comments']\n",
    "del dfraw['Called Comments']\n",
    "del dfraw['Answering Extension']\n",
    "del dfraw['Information']\n",
    "del dfraw['Reporting Group']\n",
    "del dfraw['Report Flag']"
   ]
  },
  {
   "cell_type": "code",
   "execution_count": 4,
   "metadata": {},
   "outputs": [],
   "source": [
    "# The dates and times given in the data needs to be of type \"datetime\"\n",
    "#We extract the date and time now. \n",
    "#Construct datetime object (YYYY,MM,DD,hour,min,sec) by extracting it by slice\n",
    "\n",
    "#create new column with same number of index:\n",
    "#empty col ready to transfer formatted datetime values\n",
    "dfraw[\"datetime\"] = '' \n",
    "\n",
    "# store the rows of data into this temporary pandas series\n",
    "dt_col = dfraw[\"Date/Time\"] \n",
    "\n",
    "\n",
    "i = 0\n",
    "\n",
    "\n",
    "for dt_ele in dt_col:\n",
    "    \n",
    "    # \"dt_ele\" contains a string: dd/mm/yyyy hh:mm:ss <-- lets extract this\n",
    "    #by looping through each point of our date/time col and extracting\n",
    "    #individual data by slicing:\n",
    "    year = dt_ele[6:10]\n",
    "    month = dt_ele[3:5]\n",
    "    day = dt_ele[0:2]\n",
    "    hour = dt_ele[11:13]\n",
    "    mini = dt_ele[14:16]\n",
    "    sec = dt_ele[17:21]\n",
    "    \n",
    "    #create a datetime object for that element\n",
    "    formatted_dt = datetime(int(year),int(month),int(day),int(hour),int(mini),int(sec))\n",
    "\n",
    "    #plug this formatted datetime value into our new col called datetime by appending.\n",
    "    #as we are looping from the begining of the col\n",
    "    dfraw.loc[i,\"datetime\"] = formatted_dt\n",
    "    \n",
    "    i = i + 1\n"
   ]
  },
  {
   "cell_type": "code",
   "execution_count": 5,
   "metadata": {
    "scrolled": true
   },
   "outputs": [],
   "source": [
    "#drop the unformatted date/time col\n",
    "del dfraw['Date/Time']\n",
    "#re-arrage the cols\n",
    "collist = [\"datetime\",\"Type\",\"Dial Status\",\"Caller Number\",\"Called Number\",\"Duration\"]\n",
    "dfraw = dfraw[collist]\n"
   ]
  },
  {
   "cell_type": "code",
   "execution_count": 6,
   "metadata": {},
   "outputs": [
    {
     "name": "stdout",
     "output_type": "stream",
     "text": [
      "Date range is between 2019-01-28 08:03:52 and 2019-01-30 17:16:01.\n"
     ]
    }
   ],
   "source": [
    "dfraw = dfraw.sort_values(\"datetime\")\n",
    "#we sorted the datetimes. now we need to reset the index values:\n",
    "dfraw = dfraw.reset_index(drop=True)\n",
    "\n",
    "#so we know first datetime[] row is earliest \n",
    "#and last row is latest. store these dates and print.\n",
    "firstdate = dfraw.loc[0,\"datetime\"]\n",
    "lastdate = dfraw.loc[row-1,\"datetime\"]\n",
    "print(\"Date range is between {} and {}.\".format(firstdate,lastdate))\n"
   ]
  },
  {
   "cell_type": "code",
   "execution_count": 7,
   "metadata": {},
   "outputs": [
    {
     "name": "stdout",
     "output_type": "stream",
     "text": [
      "Parameters given (User Single date: 2019-01-28 00:00:00)\n",
      "Parameters given (User End time: 1990-01-01 18:30:00)\n"
     ]
    }
   ],
   "source": [
    "#### PARAMETERS ####\n",
    "usr_choose_day = \"28/01/2019\"\n",
    "param_starttime = \"08:00\"\n",
    "param_endtime = \"18:30\"\n",
    "increment = \"1\" # min minutes\n",
    "#### PARAMETERS ####\n",
    "\n",
    "#convert dd/mm/yyyy into datetime object with 00:00 time\n",
    "def text2Date_nullTime (givendate):\n",
    "    #expect a string in the format: dd/mm/yyyy\n",
    "    thedate = datetime(int(givendate[6:10]),\n",
    "                    int(givendate[3:5]),\n",
    "                    int(givendate[0:2]),)\n",
    "    return thedate\n",
    "\n",
    "#convert a time mm:ss into datetime with random date.\n",
    "#we dont care about the date as we are only interested in the time component\n",
    "def text2date_nullDate (giventime):\n",
    "    #expect a string in the format: mm:ss\n",
    "    thetime_nullDate = datetime(int(\"1990\"),int(\"01\"),int(\"01\"),\n",
    "                               int(giventime[0:2]),\n",
    "                               int(giventime[3:5]))\n",
    "    return thetime_nullDate\n",
    "\n",
    "\n",
    "#check if usr given date is of format dd/mm/yyyy\n",
    "try:\n",
    "    usr_date = text2Date_nullTime(usr_choose_day)\n",
    "except ValueError:\n",
    "    print(\"Date given in parameters is not of form: dd/mm/yyyy \")\n",
    "    sys.exit()\n",
    "    \n",
    "#check if usr given endtime is of format mm/ss\n",
    "try:\n",
    "    usr_endtime = text2date_nullDate(param_endtime)\n",
    "except ValueError:\n",
    "    print(\"EndTime given in parameters is not of form: mm/ss\")\n",
    "    sys.exit()\n",
    "\n",
    "    \n",
    "\n",
    "print(\"Parameters given (User Single date: {})\".format(usr_date))\n",
    "print(\"Parameters given (User End time: {})\".format(usr_endtime))\n",
    "\n",
    "#in our function \"ckDateRng\" we test if the \"usr_choose_day\" is within the range \n",
    "#of the dates in dfraw. we need to compare the usr_date with FirstDate however \n",
    "#firstdate includes a specific time so the function would break if a time less\n",
    "#than the firstdate time is given. to overcome this issue, we use a usr_date\n",
    "#that has a time right at the end of the day to ensure this is greater than the\n",
    "#first date.\n",
    "\n",
    "\n",
    "#firstdate_dateonly time 00:00. for the use of comparing \n",
    "#WHAT ARE WE DOING: create a new df. rows=time  col freq. add up. \n",
    "#3 codes:  single date analysis, cloud all days super imposed, \n",
    "\n",
    "\n",
    "# what are we doing?\n",
    "# get a count of answered calls per 1 minute. superimpose data for each day.  \n",
    "#define x-axis time params. from 8:00 - to 18:00 for examples\n",
    "# create new df: time (8:00 - 18:30)  vs count\n",
    "#starttime = datetime() \n",
    "#endtime =\n",
    "#determine firstdate and enddate from the data.\n",
    "#x = dfraw.\n",
    "\n"
   ]
  },
  {
   "cell_type": "code",
   "execution_count": 8,
   "metadata": {},
   "outputs": [],
   "source": [
    "def ckDateRng(FirstDate,LastDate,UsrDate):\n",
    "    #set the dates so the time is set to 00:00 using .replace\n",
    "    #if date not in range, error is given + program exits\n",
    "    #correct all dates to have same times to maintain consistancy.\n",
    "\n",
    "    usr_day_dateonly = UsrDate.replace(hour=0,minute=0,second=0)\n",
    "    firstdate_dateonly = FirstDate.replace(hour=0,minute=0,second=0)\n",
    "    lastdate_dateonly = LastDate.replace(hour=0,minute=0,second=0)\n",
    "    \n",
    "    if UsrDate <= lastdate_dateonly and usr_day_dateonly >= firstdate_dateonly:\n",
    "        print(\"IN RANGE\")\n",
    "    else:\n",
    "        print(\"Wrong date given script stopped\")\n",
    "        sys.exit()"
   ]
  },
  {
   "cell_type": "code",
   "execution_count": 9,
   "metadata": {},
   "outputs": [
    {
     "name": "stdout",
     "output_type": "stream",
     "text": [
      "IN RANGE\n"
     ]
    }
   ],
   "source": [
    "#check if the usr given date is within the range of dates given in our dataset\n",
    "#Script will stop if date given in wrong format\n",
    "ckDateRng(firstdate,lastdate,usr_date)\n"
   ]
  },
  {
   "cell_type": "code",
   "execution_count": 10,
   "metadata": {},
   "outputs": [],
   "source": [
    "def constr_dfsingle(usrstart_time,usrend_time,increment):\n",
    "    #Create df [time,count]\n",
    "    dfSingle = pd.DataFrame(columns=[\"Time\",\"Count\"])\n",
    "    #create dump index datetime object with time component=usrstart_time\n",
    "    indextime_start = datetime(int(usr_choose_day[6:11]),\n",
    "                               int(usr_choose_day[3:5]),\n",
    "                               int(usr_choose_day[0:2]),\n",
    "                             int(usrstart_time[0:2]),\n",
    "                             int(usrstart_time[3:5]))\n",
    "\n",
    "    indextime_end = datetime(int(usr_choose_day[6:11]),\n",
    "                             int(usr_choose_day[3:5]),\n",
    "                             int(usr_choose_day[0:2]),\n",
    "                             int(usrend_time[0:2]),\n",
    "                             int(usrend_time[3:5]))    \n",
    "    \n",
    "    time_iteration = indextime_start  \n",
    "    while time_iteration.time() <= indextime_end.time():\n",
    "        DateTimeDump = time_iteration\n",
    "        dfSingle = dfSingle.append({\"Time\":DateTimeDump}, ignore_index=True)\n",
    "        time_iteration = time_iteration + timedelta(minutes = int(increment))\n",
    "    return dfSingle \n",
    "    \n",
    "dfSingle = constr_dfsingle(param_starttime,param_endtime,increment)\n"
   ]
  },
  {
   "cell_type": "code",
   "execution_count": 11,
   "metadata": {},
   "outputs": [],
   "source": [
    "# other way around go through the fixed index times \n",
    "#one by one and check each time \n",
    "# so create the df with blank and only times. and fill counts as you go on\n",
    "#we sorted our data. *very important*\n",
    "\n",
    "count = 0\n",
    "dfraw_rownum = 0 \n",
    "dfraw_element = dfraw.loc[dfraw_rownum,\"datetime\"]\n",
    "dfSingle_rowindex = 0 #use as a counter to reference which row \"dfSingle[\"Time\"]\"is on\n",
    "\n",
    "#first loop through dfsingle - the fixed increments. \n",
    "#8:00 -> while my data from dfraw is within range of 8:00, count +=1\n",
    "#if not within range, ;leave the while loop, \n",
    "#then store value of count in \"count\" in dfsingle\n",
    "#then reset count and increment the dfsingle row (+1) for reference\n",
    "\n",
    "##THE DAYCOUNT FOR LOOP##\n",
    "for ele in dfSingle[\"Time\"]:\n",
    "    #i = datetime(int(\"1990\"),int(\"01\"),int(\"01\"),int(ele[0:2]),int(ele[3:5]))\n",
    "    \n",
    "    while dfraw.loc[dfraw_rownum,\"datetime\"].time() >= ele.time() and dfraw.loc[dfraw_rownum,\"datetime\"].time() < (ele + timedelta(minutes=1)).time(): \n",
    "        if dfraw.loc[dfraw_rownum,\"Dial Status\"] == \"Answered\" and dfraw.loc[dfraw_rownum,\"Type\"] == \"INBOUND\":\n",
    "            count += 1\n",
    "            \n",
    "        dfraw_rownum += 1\n",
    "    \n",
    "    dfSingle.loc[dfSingle_rowindex,\"Count\"] = count\n",
    "    \n",
    "    count = 0\n",
    "    dfSingle_rowindex += 1\n",
    "#while dfraw in in range with dfsingle\n",
    "#check if this dfraw is also answered and inbound. if so. add to count. now check new dfraw value: is it in range? yes add to count..\n",
    "# if not in range. then exit while loop. store \"count\" into dfsingle cols. then reset count. \n",
    "# then increment dfsingle_rowindex which is our counter to keep track on where we are in the loop"
   ]
  },
  {
   "cell_type": "code",
   "execution_count": 12,
   "metadata": {
    "scrolled": true
   },
   "outputs": [
    {
     "data": {
      "image/png": "[encoded data removed]",
      "text/plain": [
       "<Figure size 1080x360 with 1 Axes>"
      ]
     },
     "metadata": {
      "needs_background": "light"
     },
     "output_type": "display_data"
    }
   ],
   "source": [
    "#we have our dfSingle. now remove all counts=0\n",
    "\n",
    "dfSingle_filt = dfSingle[dfSingle.Count != 0]\n",
    "fig = plt.figure(figsize=(15,5))\n",
    "ax = fig.add_axes([0,0,1,1])\n",
    "ax.plot(dfSingle_filt.Time,dfSingle_filt.Count,\"r-\")\n",
    "ax.set_xlabel(\"Time\")\n",
    "ax.set_ylabel(\"Number of answered calls\")\n",
    "ax.set_title(\"Frequency of calls answered\")\n",
    "\n",
    "\n",
    "datemin = dfSingle_filt[\"Time\"].min()\n",
    "datemax = dfSingle_filt[\"Time\"].max()\n",
    "ax.set_xlim(datemin, datemax)\n",
    "\n",
    "for label in ax.xaxis.get_ticklabels():\n",
    "    label.set_rotation(0)\n",
    "###set major ticks format    \n",
    "ax.xaxis.set_major_formatter(mdates.DateFormatter('%H:%M'))\n",
    "ax.xaxis.set_minor_locator(MaxNLocator(integer=True))\n",
    "\n",
    "ax.grid(True)\n",
    "###set ticks every week\n",
    "#ax.xaxis.set_major_locator(mdates.HourLocator())\n",
    "#ax.xaxis.set_major_formatter('%d')\n",
    "#ax.xaxis.set_minor_locator(mdates.MinuteLocator())\n",
    "###ax.xaxis.set_minor_locator(months)\n",
    "\n",
    "\n",
    "\n",
    "#plt.show()"
   ]
  },
  {
   "cell_type": "code",
   "execution_count": 13,
   "metadata": {},
   "outputs": [
    {
     "data": {
      "image/png": "[encoded data removed]",
      "text/plain": [
       "<Figure size 720x360 with 1 Axes>"
      ]
     },
     "metadata": {
      "needs_background": "light"
     },
     "output_type": "display_data"
    }
   ],
   "source": [
    "\n",
    "#plt.scatter(dates, PM_25, s =100, c = 'red')\n",
    "dfSingle_filt = dfSingle[dfSingle.Count != 0]\n",
    "dfSingle_filt = dfSingle_filt.set_index(\"Time\")\n",
    "\n",
    "fig = plt.figure(figsize=(10,5))\n",
    "ax = fig.add_axes([0,0,1,1])#(xO,yO,w,h)\n",
    "\n",
    "\n",
    "\n",
    "      \n",
    "ax.scatter(dfSingle_filt.index.values, dfSingle_filt[\"Count\"],s =100, c = 'lightblue')\n",
    "\n",
    "\n",
    "ax.set_xlabel(f\"Time\\n on the {usr_choose_day}\")\n",
    "ax.set_ylabel(\"Number of answered calls\")\n",
    "ax.set_title(\"Frequency of calls answered\")\n",
    "\n",
    "\n",
    "datemin = dfSingle_filt.index.values.min()\n",
    "datemax = dfSingle_filt.index.values.max()\n",
    "ax.set_xlim(datemin, datemax)\n",
    "#ax.yaxis.set_ticks([1,2,3])\n",
    "for label in ax.xaxis.get_ticklabels():\n",
    "    label.set_rotation(0)\n",
    "####set major ticks format    \n",
    "ax.xaxis.set_major_formatter(mdates.DateFormatter('%H:%M'))\n",
    "ax.xaxis.set_minor_locator(MaxNLocator(integer=True))\n",
    "\n"
   ]
  },
  {
   "cell_type": "code",
   "execution_count": null,
   "metadata": {},
   "outputs": [],
   "source": []
  }
 ],
 "metadata": {
  "kernelspec": {
   "display_name": "Python 3",
   "language": "python",
   "name": "python3"
  },
  "language_info": {
   "codemirror_mode": {
    "name": "ipython",
    "version": 3
   },
   "file_extension": ".py",
   "mimetype": "text/x-python",
   "name": "python",
   "nbconvert_exporter": "python",
   "pygments_lexer": "ipython3",
   "version": "3.7.1"
  }
 },
 "nbformat": 4,
 "nbformat_minor": 2
}
